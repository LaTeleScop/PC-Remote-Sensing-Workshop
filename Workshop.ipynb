{
 "cells": [
  {
   "cell_type": "markdown",
   "id": "d14c73cd-d3e4-4ed8-97bf-041bf90980fd",
   "metadata": {},
   "source": [
    "# Remote sensing workshop on Microsoft's Planetary Computer\n",
    "Introduction to geopandas, STAC, rasterio, numpy for images, scikit-image, ..."
   ]
  },
  {
   "cell_type": "code",
   "execution_count": null,
   "id": "80dc4937-7587-4d4f-8884-bce9198de370",
   "metadata": {},
   "outputs": [],
   "source": [
    "# Planetary Computer, STAC\n",
    "import pystac\n",
    "from pystac.extensions.eo import EOExtension as eo\n",
    "import pystac_client\n",
    "import planetary_computer\n",
    "\n",
    "# Stats and vector data\n",
    "import numpy as np\n",
    "import pandas as pd\n",
    "import geopandas as gpd\n",
    "import shapely\n",
    "\n",
    "# Image processing\n",
    "import rasterio as rio\n",
    "import rasterio.plot, rasterio.features, rasterio.mask, rasterio.fill  # Not loaded by default\n",
    "import skimage.morphology, skimage.measure\n",
    "\n",
    "# Plotting\n",
    "import matplotlib.pyplot as plt\n",
    "import IPython.display\n",
    "import ipywidgets\n",
    "import leafmap\n",
    "\n",
    "# For nice HTML outputs\n",
    "import rich.table"
   ]
  },
  {
   "cell_type": "markdown",
   "id": "8afac47c-8dd2-4410-85da-73f5d2fc4cf2",
   "metadata": {},
   "source": [
    "## Environment"
   ]
  },
  {
   "cell_type": "code",
   "execution_count": null,
   "id": "24a0362f-d188-4cd8-81b7-915f715cd6a9",
   "metadata": {},
   "outputs": [],
   "source": [
    "# Shell commands - know your env !\n",
    "!source /etc/os-release && echo $PRETTY_NAME && uname -sir"
   ]
  },
  {
   "cell_type": "code",
   "execution_count": null,
   "id": "e479ab99-74ac-429b-8c61-6119c8328ad0",
   "metadata": {},
   "outputs": [],
   "source": [
    "# This one is quite verbose\n",
    "#!env"
   ]
  },
  {
   "cell_type": "code",
   "execution_count": null,
   "id": "c0bb11db-faa1-4779-94f6-09d1039a3ce0",
   "metadata": {},
   "outputs": [],
   "source": [
    "# We're running on a fresh system\n",
    "!conda --version && python --version"
   ]
  },
  {
   "cell_type": "code",
   "execution_count": null,
   "id": "900030c9-c84f-4102-af41-5262acd87cc0",
   "metadata": {},
   "outputs": [],
   "source": [
    "# If you need to check / export conda env (with packages versions)\n",
    "#!conda env export > conda_env.yml"
   ]
  },
  {
   "cell_type": "code",
   "execution_count": null,
   "id": "d5fd34d8-3a2d-4d2c-ac7b-cdf0b1a5f443",
   "metadata": {},
   "outputs": [],
   "source": [
    "# Data in /home/jovyan will persist across sessions, with just 15GB of storage.\n",
    "# We still have 163Gb to work with in / ; we can use /tmp to write files if needed\n",
    "!df -h"
   ]
  },
  {
   "cell_type": "code",
   "execution_count": null,
   "id": "f71fe762-b8ba-40e7-b7b9-8236c1bccce5",
   "metadata": {},
   "outputs": [],
   "source": [
    "plt.style.use('default')\n",
    "folium_tile = \"CartoDB Positron\"\n",
    "\n",
    "# Or if you're a darkmode addict...\n",
    "\n",
    "#folium_tile = \"CartoDB Dark Matter\"\n",
    "#plt.style.use('dark_background')"
   ]
  },
  {
   "cell_type": "markdown",
   "id": "014ca9e5-bfe0-4fe2-8e43-decddb552720",
   "metadata": {},
   "source": [
    "## GeoPandas\n",
    "The reference lib to work with GIS vector data in Python"
   ]
  },
  {
   "cell_type": "code",
   "execution_count": null,
   "id": "efc16091-c5a1-479c-9488-ef286bd5818f",
   "metadata": {},
   "outputs": [],
   "source": [
    "# Load json features from WFS\n",
    "wfs_communes = \"https://wxs.ign.fr/topographie/geoportail/wfs?SERVICE=WFS&VERSION=2.0.0\" \\\n",
    "               \"&request=GetFeature&OUTPUTFORMAT=application/json&typename=BDTOPO_V3:commune&CQL_FILTER=code_insee_du_departement=33\"\n",
    "# If you ever want to cache the result of the HTTP request, you could use the request lib to fetch the result and store it"
   ]
  },
  {
   "cell_type": "code",
   "execution_count": null,
   "id": "6fd02c6e-8139-47ce-82da-56d600c59b8d",
   "metadata": {},
   "outputs": [],
   "source": [
    "# But here GeoPandas will handle the request for us.\n",
    "# It can read various types of URLs, locally or remote, files or archives, database queries, ...\n",
    "communes = gpd.read_file(wfs_communes)\n",
    "communes.info()"
   ]
  },
  {
   "cell_type": "code",
   "execution_count": null,
   "id": "26d7b14f-a78e-452e-8b7a-072c495503c9",
   "metadata": {},
   "outputs": [],
   "source": [
    "# Drop datetime columns because it's incompatible with folium\n",
    "communes.drop(['date_creation', 'date_modification'], axis=1, inplace=True)\n"
   ]
  },
  {
   "cell_type": "code",
   "execution_count": null,
   "id": "6a356880",
   "metadata": {},
   "outputs": [],
   "source": [
    "# Explore GeoPandas dataset in interactive folium (leaflet) map\n",
    "communes.explore(tiles=folium_tile)"
   ]
  },
  {
   "cell_type": "code",
   "execution_count": null,
   "id": "f8ddd124-7fc9-4f71-a388-ca3947945723",
   "metadata": {},
   "outputs": [],
   "source": [
    "# Select one commune as AOI for our first analysis\n",
    "area_of_interest = communes.loc[communes.code_insee == '33529']"
   ]
  },
  {
   "cell_type": "code",
   "execution_count": null,
   "id": "414a9630-54dc-4a8c-b816-bc26410d2ab0",
   "metadata": {},
   "outputs": [],
   "source": [
    "# Basic plot with lat/long axis labels\n",
    "area_of_interest.plot()"
   ]
  },
  {
   "cell_type": "code",
   "execution_count": null,
   "id": "84259f8e-10f8-4032-abfa-5e09b2f05e37",
   "metadata": {},
   "outputs": [],
   "source": [
    "# Get bounding box of each polygon in a GeoDataFrame\n",
    "area_of_interest.bounds"
   ]
  },
  {
   "cell_type": "code",
   "execution_count": null,
   "id": "dc3387f6-8a18-4217-bc32-0d1abf12fd7a",
   "metadata": {},
   "outputs": [],
   "source": [
    "# Make sure your layer and bbox is in lat/long formatting, instead of any projected coordinates\n",
    "area_of_interest.crs"
   ]
  },
  {
   "cell_type": "code",
   "execution_count": null,
   "id": "70e2ab0f-5818-4344-9a51-a5cce8d528fe",
   "metadata": {},
   "outputs": [],
   "source": [
    "# Get bounds of the first (and only) multipolygon in our GeoDataFrame\n",
    "bbox = tuple(area_of_interest.bounds.values[0])\n",
    "# Another way to get GeoDataFrame bounds (layer wide)\n",
    "assert bbox == rio.features.bounds(area_of_interest)\n",
    "bbox"
   ]
  },
  {
   "cell_type": "code",
   "execution_count": null,
   "id": "66c3812c-b275-4006-9442-e2fc0967bef3",
   "metadata": {},
   "outputs": [],
   "source": [
    "# We want to ignore islands. Let's break this multipolygon to extract only the terrestrial part\n",
    "polygons = list(area_of_interest.geometry.values[0])\n",
    "polygons"
   ]
  },
  {
   "cell_type": "code",
   "execution_count": null,
   "id": "b1b95800-d66b-485a-bd5a-44b2992ea0e2",
   "metadata": {},
   "outputs": [],
   "source": [
    "# The terrestrial part is the biggest one\n",
    "polygons = sorted(polygons, key=lambda poly: poly.area, reverse=True)\n",
    "polygons[0]"
   ]
  },
  {
   "cell_type": "code",
   "execution_count": null,
   "id": "25d3b42b-74a2-4785-9dc8-805dd09fd288",
   "metadata": {},
   "outputs": [],
   "source": [
    "# Get bounding box of our simple polygon (this will be our Region Of Interest)\n",
    "roi = polygons[0]\n",
    "bbox = roi.bounds\n",
    "bbox"
   ]
  },
  {
   "cell_type": "markdown",
   "id": "425186c8-55eb-47ce-9d2a-3ccbc82f8598",
   "metadata": {},
   "source": [
    "## STAC\n",
    "[Spatio Temporal Asset Catalog](https://stacspec.org/) is the latest standard to search and acess Earth Observation datasets."
   ]
  },
  {
   "cell_type": "code",
   "execution_count": null,
   "id": "5b79bc21-5ca8-4c56-ba44-ca359d3917f7",
   "metadata": {},
   "outputs": [],
   "source": [
    "# Initialize Planetary Computer catalog instance\n",
    "catalog = pystac_client.Client.open(\n",
    "    \"https://planetarycomputer.microsoft.com/api/stac/v1\",\n",
    "    modifier=planetary_computer.sign_inplace,\n",
    ")"
   ]
  },
  {
   "cell_type": "code",
   "execution_count": null,
   "id": "caafb2ee-c6cf-49e8-84af-08035c10ff8a",
   "metadata": {},
   "outputs": [],
   "source": [
    "# The Hub sets PC_SDK_SUBSCRIPTION_KEY automatically.\n",
    "# If you work outside of Jupyter, set the environment variable PC_SDK_SUBSCRIPTION_KEY or use python function:\n",
    "# pc.settings.set_subscription_key(<YOUR API Key>)"
   ]
  },
  {
   "cell_type": "code",
   "execution_count": null,
   "id": "98201791-ec00-4194-9ec4-b16f46b026fe",
   "metadata": {},
   "outputs": [],
   "source": [
    "# Found two dates before and after the fire within our Region Of Interest\n",
    "time_of_interest = \"2022-06-01/2022-09-30\""
   ]
  },
  {
   "cell_type": "code",
   "execution_count": null,
   "id": "189edab8-e0a5-4553-b8c3-4bafd8a83fd4",
   "metadata": {},
   "outputs": [],
   "source": [
    "# Searching for S2-L2 products within ROI and time range\n",
    "search = catalog.search(\n",
    "    collections=[\"sentinel-2-l2a\"],\n",
    "    bbox=bbox,  # or intersects=area_of_interest\n",
    "    datetime=time_of_interest,\n",
    "    sortby='datetime',  # By default the query returns latest first, here we sortby ascending\n",
    "    query={\"eo:cloud_cover\": {\"lt\": 10}},  # cloud cover lower than 10%\n",
    ")\n",
    "items = search.item_collection()\n",
    "print(f\"Found {len(items)} items\\n\")"
   ]
  },
  {
   "cell_type": "code",
   "execution_count": null,
   "id": "a2a6196e-46f7-4b13-8999-39c06ac529b9",
   "metadata": {},
   "outputs": [],
   "source": [
    "# TODO: Explore STAC items\n",
    "items"
   ]
  },
  {
   "cell_type": "code",
   "execution_count": null,
   "id": "abcbee5e-6afa-4328-a69f-75999175e7de",
   "metadata": {},
   "outputs": [],
   "source": [
    "# Convert items metadata to GeoDataFrame\n",
    "gdf_items = gpd.GeoDataFrame.from_features(items.to_dict(), crs=\"epsg:4326\")\n",
    "gdf_items.head(1)"
   ]
  },
  {
   "cell_type": "code",
   "execution_count": null,
   "id": "be09009c-556b-4bfd-8c93-81925c3b8dc6",
   "metadata": {},
   "outputs": [],
   "source": [
    "# Convert timestamps to datetime objects if you need to plot a time serie\n",
    "gdf_items[\"datetime\"] = pd.to_datetime(gdf_items.datetime)\n",
    "fig, ax = plt.subplots(figsize=(10,2))\n",
    "plt.scatter(gdf_items.datetime, gdf_items[\"eo:cloud_cover\"])\n",
    "ax.set_ylabel(\"Cloud cover (%)\")"
   ]
  },
  {
   "cell_type": "code",
   "execution_count": null,
   "id": "8de866ac-9a33-46e1-9756-debe5b5bd96f",
   "metadata": {},
   "outputs": [],
   "source": [
    "# PNG image preview\n",
    "items[0].assets[\"rendered_preview\"]"
   ]
  },
  {
   "cell_type": "code",
   "execution_count": null,
   "id": "2368e0da-c34a-4e2d-8ca5-3b17b37aeebc",
   "metadata": {},
   "outputs": [],
   "source": [
    "# You can access a specific dataset in a STAC item using its URL (aka href)\n",
    "items[0].assets[\"rendered_preview\"].href"
   ]
  },
  {
   "cell_type": "markdown",
   "id": "ef88531f-63e8-4f3c-a91a-d5c10bd23481",
   "metadata": {},
   "source": [
    "## Display existing PNG images\n",
    "Use IPython core to display images that are already rendered"
   ]
  },
  {
   "cell_type": "code",
   "execution_count": null,
   "id": "f368ad99-d923-4b64-80f2-d4bb77794aca",
   "metadata": {},
   "outputs": [],
   "source": [
    "# Build IPython image object from pre-rendered image url\n",
    "IPython.display.Image(url=items[0].assets[\"rendered_preview\"].href, width=800)"
   ]
  },
  {
   "cell_type": "code",
   "execution_count": null,
   "id": "64744f27-844f-4374-95f4-809ea92249ab",
   "metadata": {},
   "outputs": [],
   "source": [
    "# Here we create IPython objects that we can use with IPywidgets\n",
    "images = {it.id: IPython.display.Image(url=it.assets[\"rendered_preview\"].href, width=500) for it in items}\n",
    "names = list(images.keys())\n",
    "images"
   ]
  },
  {
   "cell_type": "code",
   "execution_count": null,
   "id": "78faa48f-5771-449a-84ff-067ef654eb70",
   "metadata": {},
   "outputs": [],
   "source": [
    "# Interactive function to show images, parameter name must be same than in interact() arguments\n",
    "def loadimg(i=0):\n",
    "    IPython.display.display(images[names[i]])\n",
    "    return names[i]"
   ]
  },
  {
   "cell_type": "code",
   "execution_count": null,
   "id": "00bc9f8d-17a6-4839-80d2-0ac711c04efa",
   "metadata": {},
   "outputs": [],
   "source": [
    "# This is how you can create a widget. The first display will be slow, before the PNG file is cached\n",
    "ipywidgets.interact(loadimg,  i=(0, len(images)-1))"
   ]
  },
  {
   "cell_type": "code",
   "execution_count": null,
   "id": "51433b94-29ef-494d-be3b-bb7870c83662",
   "metadata": {},
   "outputs": [],
   "source": [
    "# Choose two dates before and after the fire (mainly between 2022/07/12 and 2022/07/29)\n",
    "before, after = items[2], items[4]\n",
    "before, after"
   ]
  },
  {
   "cell_type": "code",
   "execution_count": null,
   "id": "404d74cd-cdb1-4e5f-963b-3d43a68105fb",
   "metadata": {},
   "outputs": [],
   "source": [
    "# Single STAC item\n",
    "before"
   ]
  },
  {
   "cell_type": "markdown",
   "id": "7bf8ead8-68d3-46de-9785-7fa2333b79a2",
   "metadata": {},
   "source": [
    "## Explore a dataset"
   ]
  },
  {
   "cell_type": "code",
   "execution_count": null,
   "id": "8753bb65-32cf-4417-8b2e-90c763409727",
   "metadata": {
    "tags": []
   },
   "outputs": [],
   "source": [
    "# Rich provides an easy way to build pretty HTML tables\n",
    "table = rich.table.Table(\"Asset Key\", \"Description\")\n",
    "for asset_key, asset in before.assets.items():\n",
    "    table.add_row(asset_key, asset.title)\n",
    "table"
   ]
  },
  {
   "cell_type": "code",
   "execution_count": null,
   "id": "69f46ea7-9aff-4617-bb86-f0cdef202e90",
   "metadata": {},
   "outputs": [],
   "source": [
    "# Use Leafmap to load a STAC layer (Near Infra Red data)\n",
    "m = leafmap.Map()\n",
    "m.add_stac_layer(collection=\"sentinel-2-l2a\", item=after.id, assets=[\"B08\"])\n",
    "# Add a GeoDataFrame polygon layer on top of your leafmap\n",
    "m.add_gdf(area_of_interest, style={'color': 'yellow'})\n",
    "m"
   ]
  },
  {
   "cell_type": "code",
   "execution_count": null,
   "id": "98ec3b51-15cc-4371-9f58-d88629d9b51d",
   "metadata": {},
   "outputs": [],
   "source": [
    "# Load full false color (NIR) image with Leafmap\n",
    "m = leafmap.Map()\n",
    "m.add_stac_layer(\n",
    "    collection=\"sentinel-2-l2a\",\n",
    "    name=before.datetime.strftime('%Y.%m.%d'),\n",
    "    item=before.id,\n",
    "    assets=[\"B08\", \"B04\", \"B03\"]\n",
    ")\n",
    "m"
   ]
  },
  {
   "cell_type": "code",
   "execution_count": null,
   "id": "e138884b-1718-4fac-a16c-f0a9a5439cf7",
   "metadata": {},
   "outputs": [],
   "source": [
    "# If you just need to visualize data, you can compute index on the fly\n",
    "# Here we add two NDVI layers, rescaled between -0.5 and 0.5 for better display\n",
    "m = leafmap.Map()\n",
    "m.add_stac_layer(\n",
    "    collection=\"sentinel-2-l2a\",\n",
    "    name=after.datetime.strftime('%Y.%m.%d'),\n",
    "    item=after.id,\n",
    "    assets=[\"B04\", \"B03\", \"B02\", \"B08\"],\n",
    "    expression=\"(B08 - B04) / (B08 + B04)\",\n",
    "    rescale=\"-0.5,0.5\",\n",
    "    colormap_name=\"rdylgn\",\n",
    ")\n",
    "m.add_stac_layer(\n",
    "    collection=\"sentinel-2-l2a\",\n",
    "    name=before.datetime.strftime('%Y.%m.%d'),\n",
    "    item=before.id,\n",
    "    assets=[\"B04\", \"B03\", \"B02\", \"B08\"],\n",
    "    expression=\"(B08 - B04) / (B08 + B04)\",\n",
    "    rescale=\"-0.5,0.5\",\n",
    "    colormap_name=\"rdylgn\",\n",
    ")\n",
    "# Use the layer switcher to see the difference (top right icon, then first tab)\n",
    "m"
   ]
  },
  {
   "cell_type": "code",
   "execution_count": null,
   "id": "6f079044-938e-4d3d-9557-851436afb916",
   "metadata": {},
   "outputs": [],
   "source": [
    "# Avoid loading too many plots and HTML maps if you don't want your notebook checkpoints to become huge\n",
    "# Images and JSON geometries can really make your map slow (and here we're using high-res polygons from IGN's WFS)\n",
    "# You can comment the \"m\" when you're done with a map so the rendered html output deleted from current notebok state"
   ]
  },
  {
   "cell_type": "markdown",
   "id": "ca51bf96-ee53-4c75-874f-f17579d0e52c",
   "metadata": {},
   "source": [
    "## Rasterio\n",
    "The best library to ease the use of GDAL with Python."
   ]
  },
  {
   "cell_type": "code",
   "execution_count": null,
   "id": "82589401-2407-41a8-926c-1a3a922bb697",
   "metadata": {},
   "outputs": [],
   "source": [
    "# Open a remote 8bit GeoTIFF dataset to fetch image geometry\n",
    "with rio.open(before.assets[\"visual\"].href) as ds:\n",
    "    profile = ds.profile\n",
    "    # Do not not read data for now\n",
    "    #array = data.read()\n",
    "\n",
    "ds"
   ]
  },
  {
   "cell_type": "code",
   "execution_count": null,
   "id": "bb14469c-9fe1-4df6-a5e3-ba3d88069df6",
   "metadata": {},
   "outputs": [],
   "source": [
    "# Question: what actually happened here ? Do you know the \"with\" statement ?"
   ]
  },
  {
   "cell_type": "markdown",
   "id": "2d6d5ce2-ef03-4b60-8890-aa26150945e3",
   "metadata": {},
   "source": [
    "Rasterio (as GDAL) needs 3 things to preserve an image geometry:\n",
    "* shape (bands, height, width)\n",
    "* crs (coordinate reference system)\n",
    "* affine transformation (see [related package](https://github.com/rasterio/affine) git to learn more)"
   ]
  },
  {
   "cell_type": "code",
   "execution_count": null,
   "id": "5b490d44-ef59-4570-a3c4-1207647d8d1b",
   "metadata": {},
   "outputs": [],
   "source": [
    "# We can use the same profile dict for different bands since this 3 things are constant\n",
    "rich.print(profile)"
   ]
  },
  {
   "cell_type": "code",
   "execution_count": null,
   "id": "d092333c-2dee-4501-aeec-05ca37efc2ea",
   "metadata": {},
   "outputs": [],
   "source": [
    "# Let's keep a reference to the CRS\n",
    "crs = profile['crs']\n",
    "crs"
   ]
  },
  {
   "cell_type": "code",
   "execution_count": null,
   "id": "e469b924-2025-4511-8254-529257908e9f",
   "metadata": {},
   "outputs": [],
   "source": [
    "# To avoid loading full image, we need to build a window\n",
    "# To do so we need a warped (i.e. projected) boundind box, and the source image transform\n",
    "warped_aoi_bounds = rio.warp.transform_bounds(\"epsg:4326\", crs, *bbox)\n",
    "warped_aoi_bounds"
   ]
  },
  {
   "cell_type": "code",
   "execution_count": null,
   "id": "dfe6015d-be5b-45bc-b033-de61965d9554",
   "metadata": {},
   "outputs": [],
   "source": [
    "aoi_window = rio.windows.from_bounds(*warped_aoi_bounds, transform=profile[\"transform\"])\n",
    "aoi_window"
   ]
  },
  {
   "cell_type": "code",
   "execution_count": null,
   "id": "61016e74-6907-44b3-92b1-070e736bead9",
   "metadata": {},
   "outputs": [],
   "source": [
    "# Round pixel size and offsets: we can't slice any array using floating points\n",
    "# This is handled automatically by rasterio when you call ds.read(window=window)\n",
    "aoi_window = aoi_window.round_shape().round_offsets()\n",
    "aoi_window"
   ]
  },
  {
   "cell_type": "code",
   "execution_count": null,
   "id": "33dc3152-f2ef-4dea-b695-d8365de8cf4d",
   "metadata": {},
   "outputs": [],
   "source": [
    "# Extract 8bit image within ROI, get data as numpy arrays\n",
    "with rio.open(before.assets[\"visual\"].href) as ds:\n",
    "    viz_before = ds.read(window=aoi_window)"
   ]
  },
  {
   "cell_type": "code",
   "execution_count": null,
   "id": "c4be4f4a-96d7-4443-a0bf-3645fa43f251",
   "metadata": {},
   "outputs": [],
   "source": [
    "with rio.open(after.assets[\"visual\"].href) as ds:\n",
    "    viz_after = ds.read(window=aoi_window)"
   ]
  },
  {
   "cell_type": "code",
   "execution_count": null,
   "id": "188ef977-da58-4fef-86fb-f8e1c2e820e0",
   "metadata": {},
   "outputs": [],
   "source": [
    "# Bands, Latitude, Longitude\n",
    "print(\"bands: {}, rows: {}, cols: {}\\n\".format(*viz_before.shape) + f\"dtype: {viz_before.dtype}\")"
   ]
  },
  {
   "cell_type": "code",
   "execution_count": null,
   "id": "696da010-fe9c-4a12-941e-3a4369e4efa2",
   "metadata": {},
   "outputs": [],
   "source": [
    "# Visualize histogram of pixel values.\n",
    "fig, ax = plt.subplots(figsize=(10,4))\n",
    "rio.plot.show_hist(viz_before, bins=64, stacked=False, alpha=0.5, title=\"Histogram\")\n",
    "# The legend is not displayed properly, most likely a rasterio matplotlib bug in our bleeding edge jupyter env"
   ]
  },
  {
   "cell_type": "code",
   "execution_count": null,
   "id": "e9474bee-bed5-4b17-9473-a41b5641e545",
   "metadata": {},
   "outputs": [],
   "source": [
    "# Question: How do you explain the last bins ?"
   ]
  },
  {
   "cell_type": "markdown",
   "id": "6a29d694-f17d-417d-ad6e-4008b5b3fe93",
   "metadata": {},
   "source": [
    "## Numpy array manipulations"
   ]
  },
  {
   "cell_type": "code",
   "execution_count": null,
   "id": "e4f2015b-b3d3-48d4-90d6-f3ab59456b33",
   "metadata": {},
   "outputs": [],
   "source": [
    "# Matplotlib, PIL or skimage are expecting Cols,Rows,Bands order\n",
    "np.moveaxis(viz_before, 0, 2).shape  # Move axis at index 0 to index 2"
   ]
  },
  {
   "cell_type": "code",
   "execution_count": null,
   "id": "e0f6f43d-ac0c-422b-87d9-c44890c0474c",
   "metadata": {},
   "outputs": [],
   "source": [
    "# There a many ways to change axis order\n",
    "np.moveaxis(viz_before, 0, 2).shape \\\n",
    "== np.transpose(viz_before, axes=[1, 2, 0]).shape \\\n",
    "== np.rollaxis(viz_before, 0, 3).shape \\\n",
    "== rio.plot.reshape_as_image(viz_before).shape"
   ]
  },
  {
   "cell_type": "code",
   "execution_count": null,
   "id": "0f9c533f-8726-44b3-b20b-9037f61b7c30",
   "metadata": {},
   "outputs": [],
   "source": [
    "# Plot two images side by side, matplotlib axis with pixel coords\n",
    "fig, axes = plt.subplots(1,2, figsize=(12,16), sharey=True, layout=\"tight\")\n",
    "axes[0].imshow(rio.plot.reshape_as_image(viz_before))\n",
    "axes[1].imshow(rio.plot.reshape_as_image(viz_after))\n",
    "# Using imshow instead of basic plots ensure the width / height ratio is preserved"
   ]
  },
  {
   "cell_type": "code",
   "execution_count": null,
   "id": "89f5950f-f721-423e-996a-4fadacad62af",
   "metadata": {},
   "outputs": [],
   "source": [
    "# TODO: reproduce the plot above, but zoom into the burnt area using only numpy slicing"
   ]
  },
  {
   "cell_type": "code",
   "execution_count": null,
   "id": "0bc1f2ca-59ee-4dee-aca6-1c15a2914881",
   "metadata": {},
   "outputs": [],
   "source": []
  },
  {
   "cell_type": "code",
   "execution_count": null,
   "id": "876e52e6-59c0-490f-8c76-3995cf0a1338",
   "metadata": {},
   "outputs": [],
   "source": [
    "# Question: how does Band 12 differs from optical (RGB) bands ?\n",
    "before.assets[\"B12\"]"
   ]
  },
  {
   "cell_type": "code",
   "execution_count": null,
   "id": "09c6cb2e-762b-448f-a765-3708900f95f0",
   "metadata": {},
   "outputs": [],
   "source": [
    "# Load 16bit data as numpy array, using rasterio to open remote COG file\n",
    "def rio_stack(\n",
    "    item: pystac.Item,\n",
    "    band_list: list,\n",
    "    window: rio.windows.Window = None\n",
    "):\n",
    "    \"\"\"Load and stack different bands in a STAC item, return stacked array and geometry profile\"\"\"\n",
    "    array_list = []\n",
    "    # Collect arrays\n",
    "    for band_id in band_list:\n",
    "        url = item.assets[band_id].href\n",
    "        with rasterio.open(url) as ds:\n",
    "            profile = ds.profile\n",
    "            data = ds.read(1, window=window)  # read(1) returns 2D array\n",
    "            array_list.append(data)\n",
    "    # Update metadata dict\n",
    "    profile[\"count\"] = len(array_list)\n",
    "    if window is not None:\n",
    "        # Update image geometry\n",
    "        profile[\"transform\"] = rio.windows.transform(aoi_window, profile[\"transform\"])\n",
    "        # ! Width and height are integer since we used aoi_window.round_shape() !\n",
    "        profile[\"width\"], profile[\"height\"] = aoi_window.width, aoi_window.height\n",
    "\n",
    "    return np.stack(array_list), profile"
   ]
  },
  {
   "cell_type": "code",
   "execution_count": null,
   "id": "f0ed56de-6b94-488e-98cf-231e0c357aa5",
   "metadata": {},
   "outputs": [],
   "source": [
    "# Here we also reorder BGR bands to RGB\n",
    "array_before, profile = rio_stack(before, [\"B04\", \"B03\", \"B02\", \"B08\"], aoi_window)\n",
    "# Be careful with the profile dict : the above function will not work if a one of the band geometry is different\n",
    "rich.print(profile)"
   ]
  },
  {
   "cell_type": "code",
   "execution_count": null,
   "id": "b0d7d856",
   "metadata": {},
   "outputs": [],
   "source": [
    "array_before.max()"
   ]
  },
  {
   "cell_type": "code",
   "execution_count": null,
   "id": "7ac115f7",
   "metadata": {},
   "outputs": [],
   "source": [
    "fig, ax = plt.subplots(figsize=(10,4))\n",
    "rio.plot.show_hist(array_before, bins=128, stacked=False, alpha=0.5, title=\"Histogram\")"
   ]
  },
  {
   "cell_type": "code",
   "execution_count": null,
   "id": "65b4e4a2",
   "metadata": {},
   "outputs": [],
   "source": [
    "# Write raster data (always make sure your profile dict is correct)\n",
    "img_path = before.id + \"_RGB_NIR.tif\"\n",
    "# Open in \"write\" mode, here you may pass other params for GDAL as kwargs (after **profile)\n",
    "with rasterio.open(img_path, \"w\", **profile) as w:\n",
    "    w.write(array_before)"
   ]
  },
  {
   "cell_type": "code",
   "execution_count": null,
   "id": "308d73ce-5db9-4c80-aa3a-e83219d329c6",
   "metadata": {},
   "outputs": [],
   "source": [
    "# TODO: use numpy to compute min, max, mean and std statistics for each band. \n",
    "# Avoid the for loop: it is possible with a single function call for each stat...\n",
    "# You'll need to reshape the array first (or explore the docs for other options)"
   ]
  },
  {
   "cell_type": "markdown",
   "id": "bef093c1-cb5f-43e4-ad92-e04aeab1606a",
   "metadata": {},
   "source": [
    "You should find this:\n",
    "```\n",
    "Min:  [0 0 0 0]\n",
    "Max:  [17344 18032 10992 16624]\n",
    "Mean [1590.0115479  1666.32281737 1440.60727583 2978.07257113]\n",
    "Std [ 774.51116523  619.39048455  476.28939452 1337.2577833 ]\n",
    "```"
   ]
  },
  {
   "cell_type": "code",
   "execution_count": null,
   "id": "41de3842",
   "metadata": {},
   "outputs": [],
   "source": []
  },
  {
   "cell_type": "code",
   "execution_count": null,
   "id": "07ce6929-366d-4dfc-8d9e-c6a5afa9e842",
   "metadata": {},
   "outputs": [],
   "source": [
    "# In this array, zero is used as nodata value.\n",
    "# TODO: use numpy to compute nonzero minimum for each band, as in the previous cell\n",
    "# Try to use the numpy.where and numpy.nanmin functions (and / or a masked array, see the next chapter).  \n",
    "# Skip this if you don't know the np.where function (or see the docs to find another way)."
   ]
  },
  {
   "cell_type": "code",
   "execution_count": null,
   "id": "526e52e8",
   "metadata": {},
   "outputs": [],
   "source": []
  },
  {
   "cell_type": "code",
   "execution_count": null,
   "id": "9698a5f8-d494-4d64-8d0b-7c9cfc66557c",
   "metadata": {},
   "outputs": [],
   "source": []
  },
  {
   "cell_type": "code",
   "execution_count": null,
   "id": "70056ffd-e7fa-4625-80c9-c0a1881b9c68",
   "metadata": {},
   "outputs": [],
   "source": [
    "# Use slicing to get first bands\n",
    "array_3b = array_before[:3]\n",
    "array_3b.shape"
   ]
  },
  {
   "cell_type": "code",
   "execution_count": null,
   "id": "4310d6bb-f7fb-4c0a-a2b6-45b502342792",
   "metadata": {},
   "outputs": [],
   "source": [
    "# Wooops\n",
    "plt.imshow(np.moveaxis(array_3b, 0, 2))"
   ]
  },
  {
   "cell_type": "code",
   "execution_count": null,
   "id": "e52ce5ec-6928-4520-aafa-baaf09afce26",
   "metadata": {},
   "outputs": [],
   "source": [
    "# Question: can you explain what's the problem here ?"
   ]
  },
  {
   "cell_type": "code",
   "execution_count": null,
   "id": "9bb860bf-c678-4113-b3ef-55f4a6d312cf",
   "metadata": {},
   "outputs": [],
   "source": []
  },
  {
   "cell_type": "code",
   "execution_count": null,
   "id": "1be5c075-388d-4c0b-b035-61cc6337f1c4",
   "metadata": {},
   "outputs": [],
   "source": [
    "# If you ever need to build a rendered (encoded) image object from a numpy array (usable with IPython.display.Image), you can use PIL\n",
    "import PIL\n",
    "def pil_image_from_array(array, target_width=None):\n",
    "    \"\"\"Build PIL image object from a numpy array, optional image transform to target width\"\"\"\n",
    "    # Another way to change bands order\n",
    "    array = np.transpose(array, axes=[1, 2, 0])\n",
    "    img = PIL.Image.fromarray(array)\n",
    "    if not target_width:\n",
    "        return img\n",
    "    w = img.size[0]\n",
    "    h = img.size[1]\n",
    "    aspect = w / h\n",
    "    target_height = (int)(target_width / aspect)\n",
    "    return img.resize((target_width, target_height), PIL.Image.Resampling.BILINEAR)"
   ]
  },
  {
   "cell_type": "code",
   "execution_count": null,
   "id": "9007c334-0b9e-41e4-b260-1f8c572a6edd",
   "metadata": {},
   "outputs": [],
   "source": [
    "#pil_image_from_array(viz_after, target_width=1200)"
   ]
  },
  {
   "cell_type": "markdown",
   "id": "c55064d6-4680-486f-a22f-e24c9d7c5c1c",
   "metadata": {},
   "source": [
    "## Masked numpy arrays\n",
    "Most of the time, a raster dataset come with one or several masks (sometimes one per band) that will help you locate NaNs or pixels that are outside of the sensor reach.  \n",
    "Dealing with masks / nodata can sometimes become a nightmare, we will only cover the basis of what is a mask, at the numpy level.  \n",
    "See [rasterio docs](https://rasterio.readthedocs.io/en/latest/topics/masks.html) for more infos."
   ]
  },
  {
   "cell_type": "code",
   "execution_count": null,
   "id": "970d58a4-0966-4825-88c8-708ef9e5da12",
   "metadata": {},
   "outputs": [],
   "source": [
    "with rasterio.open(before.assets['B08'].href) as ds:\n",
    "    profile = ds.profile\n",
    "    mask = ds.read_masks(window=aoi_window)\n",
    "    data = ds.read(window=aoi_window)"
   ]
  },
  {
   "cell_type": "code",
   "execution_count": null,
   "id": "492b9ead-06ba-472d-b65c-248f89253b29",
   "metadata": {},
   "outputs": [],
   "source": [
    "# Here data is not masked\n",
    "fig, ax = plt.subplots(figsize=(10,10))\n",
    "plt.imshow(data[0])"
   ]
  },
  {
   "cell_type": "code",
   "execution_count": null,
   "id": "524721ff-f800-4c82-8b7e-db22bfbbb3cb",
   "metadata": {},
   "outputs": [],
   "source": [
    "assert mask.shape == data.shape\n",
    "# A rasterio mask is encoded with 8bit, 255 for invalid data, else 0\n",
    "mask"
   ]
  },
  {
   "cell_type": "code",
   "execution_count": null,
   "id": "e10cdd91-7305-4ff6-9cdd-2ca6ea8242aa",
   "metadata": {},
   "outputs": [],
   "source": [
    "# Check if mask is empty\n",
    "mask.astype(bool).all()"
   ]
  },
  {
   "cell_type": "code",
   "execution_count": null,
   "id": "8dcd5f59-87d8-40b5-a687-a22c87a4b9ed",
   "metadata": {},
   "outputs": [],
   "source": [
    "# Let's build a numpy masked array. We need to invert it since GDAL and Numpy aren't using the same convention\n",
    "mask = ~mask.astype(bool)  # ~ operator (bitwise not) is equivalent to np.invert\n",
    "mask"
   ]
  },
  {
   "cell_type": "code",
   "execution_count": null,
   "id": "3e78a9c1-f589-448d-a8e3-210c1dfa31db",
   "metadata": {},
   "outputs": [],
   "source": [
    "# Build a mask, we decide to fill missing values with the dataset declared nodata value (e.g. zero)\n",
    "masked_data = np.ma.masked_array(data, mask, fill_value=profile['nodata'])"
   ]
  },
  {
   "cell_type": "code",
   "execution_count": null,
   "id": "8bf89b1f-a50f-4671-9d5a-7b01e43e0e5a",
   "metadata": {},
   "outputs": [],
   "source": [
    "# A masked array is composed of 2 arrays of equal dimension : one with data, one with boolean mask\n",
    "masked_data"
   ]
  },
  {
   "cell_type": "code",
   "execution_count": null,
   "id": "9211298d-6112-41d0-acdb-35698d1ddef1",
   "metadata": {},
   "outputs": [],
   "source": [
    "fig, ax = plt.subplots(figsize=(10,10))\n",
    "plt.imshow(masked_data[0])"
   ]
  },
  {
   "cell_type": "code",
   "execution_count": null,
   "id": "6ae1cca7-be90-49fe-831c-f11dd24064dd",
   "metadata": {},
   "outputs": [],
   "source": [
    "# The \"base\" array is an array with filled values where mask is True\n",
    "print(f\"{masked_data.min()=}, {masked_data.base.min()=}\")"
   ]
  },
  {
   "cell_type": "code",
   "execution_count": null,
   "id": "b3e7e7d8-60b4-4309-aa49-5a9843979fbe",
   "metadata": {},
   "outputs": [],
   "source": [
    "# You can use vector data to mask pixels outside of ROI\n",
    "def rio_clip_image(img_url: str, roi: gpd.GeoDataFrame):\n",
    "    \"\"\"OPen image and extract ROI, mask values outside of polygon(s)\"\"\"\n",
    "    with rasterio.open(img_url, \"r\") as src:\n",
    "        # Convert vector data CRS to the same as our image\n",
    "        extent = roi.to_crs(src.profile['crs']).geometry\n",
    "        out_img, out_transform = rasterio.mask.mask(\n",
    "            src, extent, filled=False, crop=True  # crop=True ensure we do not return the full image extent\n",
    "        )\n",
    "        out_meta = src.meta\n",
    "        out_meta.pop(\"nodata\")\n",
    "\n",
    "        out_meta.update(\n",
    "            {\n",
    "                \"height\": out_img.shape[1],\n",
    "                \"width\": out_img.shape[2],\n",
    "                \"transform\": out_transform,\n",
    "            }\n",
    "        )\n",
    "\n",
    "        return out_img, out_meta"
   ]
  },
  {
   "cell_type": "code",
   "execution_count": null,
   "id": "4741df19-1769-4991-9562-f7fa08fb31af",
   "metadata": {},
   "outputs": [],
   "source": [
    "masked_data, meta = rio_clip_image(before.assets['B08'].href, area_of_interest)"
   ]
  },
  {
   "cell_type": "code",
   "execution_count": null,
   "id": "319842b2-26b8-47bc-aa9b-956d492facce",
   "metadata": {
    "tags": []
   },
   "outputs": [],
   "source": [
    "# Here we can see our ROI mask is merged with the dataset nodata mask\n",
    "plt.subplots(figsize=(10,10))\n",
    "plt.imshow(masked_data[0], cmap=\"magma\", interpolation=\"bilinear\")"
   ]
  },
  {
   "cell_type": "code",
   "execution_count": null,
   "id": "3af307a3-bc48-4a1f-b05a-fca4f3569dea",
   "metadata": {
    "tags": []
   },
   "outputs": [],
   "source": [
    "# TODO: use the skimage.morphology.remove_small_objects to clean small blobs in your boolean mask (masked_data.mask).\n",
    "# You need to create a new masked array (using source masked_data.base) and cleaned boolean array.\n",
    "# Plot the mask before and after the cleaning."
   ]
  },
  {
   "cell_type": "code",
   "execution_count": null,
   "id": "0d220708-b513-42ae-ae96-031cef7b4a62",
   "metadata": {
    "tags": []
   },
   "outputs": [],
   "source": []
  },
  {
   "cell_type": "markdown",
   "id": "3123f282-ebc1-449b-aacc-cd6324fb68ac",
   "metadata": {},
   "source": [
    "## Computations"
   ]
  },
  {
   "cell_type": "code",
   "execution_count": null,
   "id": "365a900e-c9a5-449e-9c46-281bfac663a4",
   "metadata": {},
   "outputs": [],
   "source": [
    "red, green, blue, nir = array_before"
   ]
  },
  {
   "cell_type": "code",
   "execution_count": null,
   "id": "4e0214e4-e9c1-42af-aacc-c5a02a49e5cf",
   "metadata": {},
   "outputs": [],
   "source": [
    "ndvi = (nir - red) / (nir + red)"
   ]
  },
  {
   "cell_type": "code",
   "execution_count": null,
   "id": "e7d02bd8-ccf7-4ef5-99f3-5e2765693d65",
   "metadata": {},
   "outputs": [],
   "source": [
    "# Max(NDVI) should always be 1. Something went wrong here..\n",
    "# Question: can you explain why ?\n",
    "np.nanmax(ndvi)"
   ]
  },
  {
   "cell_type": "code",
   "execution_count": null,
   "id": "2ef8d376-2c47-492a-bf2c-1e131714d75f",
   "metadata": {},
   "outputs": [],
   "source": [
    "red, green, blue, nir = array_before.astype(np.float32)\n",
    "ndvi = (nir - red) / (nir + red)\n",
    "# Yes, this is better\n",
    "assert np.nanmax(ndvi) <= 1\n",
    "ndvi\n"
   ]
  },
  {
   "cell_type": "code",
   "execution_count": null,
   "id": "1dd266f5",
   "metadata": {},
   "outputs": [],
   "source": [
    "# We have NaNs because of zeros (nodata) both in nir and red arrays !\n",
    "len(ndvi[np.isnan(ndvi)])"
   ]
  },
  {
   "cell_type": "code",
   "execution_count": null,
   "id": "05dd641c-6045-4970-a6a8-bedf33372eba",
   "metadata": {},
   "outputs": [],
   "source": [
    "# Here you can see it creates some holes in our image\n",
    "fig, ax = plt.subplots(figsize=(5, 10), layout='tight')\n",
    "plt.imshow(ndvi, vmin=0, vmax=0.8, cmap='viridis')  # Ignore values under 0 in the colormap"
   ]
  },
  {
   "cell_type": "code",
   "execution_count": null,
   "id": "ef3457b3-aaf9-451d-aea9-18f73e6037cc",
   "metadata": {},
   "outputs": [],
   "source": [
    "# Let's create a masked array, here this function will automatically mask NaNs\n",
    "masked_ndvi = np.ma.masked_invalid(ndvi)\n",
    "masked_ndvi"
   ]
  },
  {
   "cell_type": "code",
   "execution_count": null,
   "id": "35c2497e-ac39-4908-bbbf-54cbee1ecb08",
   "metadata": {},
   "outputs": [],
   "source": [
    "# Then we can use rasterio.fill to interpolate missing values (rasterio understands numpy masked arrays, see the docs)\n",
    "fig, ax = plt.subplots(figsize=(10, 10))\n",
    "ax.imshow(rio.fill.fillnodata(masked_ndvi), vmin=0, vmax=0.8)\n",
    "fig.colorbar(ax.get_children()[0])  # Create a colorbar"
   ]
  },
  {
   "cell_type": "code",
   "execution_count": null,
   "id": "e4a50135",
   "metadata": {},
   "outputs": [],
   "source": [
    "# Also you could just replace NaNs by zero, using np.where or other functions"
   ]
  },
  {
   "cell_type": "markdown",
   "id": "0be24d29-ef72-42d4-bdd4-7527e1044f59",
   "metadata": {},
   "source": [
    "## Image resampling\n",
    "Now, we cant to compute a Normalized Burn Ratio.  \n",
    "The formula is : **(NIR - SWIR) / (NIR + SWIR)**  \n",
    "If we want to use B12 with B08, we need to upsample the array. We could also use B8A which is 20m, but we want maximum precision.  "
   ]
  },
  {
   "cell_type": "code",
   "execution_count": null,
   "id": "ab87c8a8-4696-43c0-aa9f-f880ae26b2ab",
   "metadata": {},
   "outputs": [],
   "source": [
    "# GSD stands for Ground Sampling Distance\n",
    "before.assets['B08'].extra_fields[\"gsd\"] == before.assets['B12'].extra_fields[\"gsd\"]"
   ]
  },
  {
   "cell_type": "code",
   "execution_count": null,
   "id": "e077b5bd-179b-41ea-a811-cbbb881d7dd9",
   "metadata": {},
   "outputs": [],
   "source": [
    "# Resamplign algorithms : \n",
    "def rio_open_resampled(url, scale_factor=2):\n",
    "    \"\"\"Open a dataset using rasterio and scale pixel size according to given factor\"\"\"\n",
    "    with rio.open(url) as ds:\n",
    "        profile = ds.profile\n",
    "        # compute new shape\n",
    "        new_height, new_width = int(ds.height * scale_factor), int(ds.width * scale_factor)\n",
    "        # read data and resample on the fly\n",
    "        data = ds.read(\n",
    "            out_shape=(ds.count, new_height, new_width),\n",
    "            resampling=rio.enums.Resampling.bilinear\n",
    "        )\n",
    "        # scale image transform\n",
    "        transform = ds.transform * ds.transform.scale(\n",
    "            (ds.width / data.shape[-1]),\n",
    "            (ds.height / data.shape[-2])\n",
    "        )\n",
    "        # update metadata\n",
    "        profile.update({\"transform\": transform, \"height\": new_height, \"width\": new_width})\n",
    "\n",
    "        return data, profile"
   ]
  },
  {
   "cell_type": "code",
   "execution_count": null,
   "id": "58d9eee8-0727-446f-8b2a-4d98783b98e8",
   "metadata": {},
   "outputs": [],
   "source": [
    "array_swir, profile = rio_open_resampled(before.assets['B12'].href, scale_factor=2)"
   ]
  },
  {
   "cell_type": "code",
   "execution_count": null,
   "id": "9424abb4-da58-4456-ac22-41b8c351e1fe",
   "metadata": {},
   "outputs": [],
   "source": [
    "# This is a full size image, sadly we cannot use both window and out_shape when reading a dataset\n",
    "rich.print(profile)"
   ]
  },
  {
   "cell_type": "code",
   "execution_count": null,
   "id": "3a72f557-b125-46dd-89b1-5df2cef8b5ab",
   "metadata": {},
   "outputs": [],
   "source": [
    "aoi_window"
   ]
  },
  {
   "cell_type": "code",
   "execution_count": null,
   "id": "52b6775e-d52f-4ac1-9b34-57e3b123f86c",
   "metadata": {},
   "outputs": [],
   "source": [
    "# TODO: find a way to extract ROI from array using only the aoi_window variable and numpy slicing, create a function called \"windowed_array\""
   ]
  },
  {
   "cell_type": "code",
   "execution_count": null,
   "id": "6bb7648c-81c3-480e-9e01-6c5b60fe7a12",
   "metadata": {},
   "outputs": [],
   "source": []
  },
  {
   "cell_type": "code",
   "execution_count": null,
   "id": "2a74a32c-dd38-4088-b3d6-82363c2e3801",
   "metadata": {},
   "outputs": [],
   "source": [
    "# TODO: use numpy to concatenate the 10m result with the rest of the bands (array_before variable)."
   ]
  },
  {
   "cell_type": "code",
   "execution_count": null,
   "id": "4b133796-cd43-4c6a-8061-32ab48aff126",
   "metadata": {},
   "outputs": [],
   "source": []
  },
  {
   "cell_type": "code",
   "execution_count": null,
   "id": "c06337ef-2139-46d6-a1b2-13114fff3fe6",
   "metadata": {},
   "outputs": [],
   "source": [
    "# TODO: create a function that (given a Sentinel-2 STAC item) returns a 5 bands array (R,G,B,NIR,SWIR) and profile dict\n",
    "# Add an optional \"window\" argument. Use existing functions rio_stack, rio_open_resampled and windowed_array"
   ]
  },
  {
   "cell_type": "code",
   "execution_count": null,
   "id": "3824cbe1-2c0a-4913-a271-ec69e57cfce6",
   "metadata": {},
   "outputs": [],
   "source": []
  },
  {
   "cell_type": "markdown",
   "id": "ead5fdcc-0e2c-47d0-a875-6c9410278247",
   "metadata": {},
   "source": [
    "## Index\n",
    "You need to use NIR and SWIR bands to compute the NBR for both images before and after.  \n",
    "**NBR = (NIR - SWIR) / (NIR + SWIR)**  \n",
    "**dNBR = NBR1 - NBR2**"
   ]
  },
  {
   "cell_type": "code",
   "execution_count": null,
   "id": "c9a0cd99-d639-4ebf-bcdb-c727277c8ecb",
   "metadata": {},
   "outputs": [],
   "source": [
    "# TODO: create a function that compute NBR, given a 5 bands array. Use it to plot both results side by side"
   ]
  },
  {
   "cell_type": "code",
   "execution_count": null,
   "id": "f1006407-ffe4-415c-b6e5-bcdc1086d8e0",
   "metadata": {},
   "outputs": [],
   "source": []
  },
  {
   "cell_type": "code",
   "execution_count": null,
   "id": "033068ac-2fbd-418b-8b5e-9632a0cf0106",
   "metadata": {},
   "outputs": [],
   "source": [
    "# TODO: create a function for the whole process: given two Sentinel 2 STAC items, and an optional ROI polygon, returns the difference of NBR\n",
    "# The function should take an optional window, and return a profile usable to write the result as GeoTIFF, with correct shape and dtype"
   ]
  },
  {
   "cell_type": "code",
   "execution_count": null,
   "id": "94d32ad8-ec22-43d0-9228-12dec0399c0a",
   "metadata": {},
   "outputs": [],
   "source": []
  },
  {
   "cell_type": "code",
   "execution_count": null,
   "id": "ace3aec2-546c-4f4d-acc0-ba42179efaa4",
   "metadata": {},
   "outputs": [],
   "source": [
    "# TODO: Plot the dNBR result, play with colormaps and thresolds e.g. plt.imshow(dnbr>0.3)\n",
    "# Try colormap \"magma\" or \"bwr\". Change vmin and vmax.\n",
    "# https://matplotlib.org/stable/tutorials/colors/colormaps.html"
   ]
  },
  {
   "cell_type": "code",
   "execution_count": null,
   "id": "d7e818a8-a58b-4198-b154-75bfd43fa43e",
   "metadata": {},
   "outputs": [],
   "source": []
  },
  {
   "cell_type": "code",
   "execution_count": null,
   "id": "c37ee576-5645-4f53-b4c4-90f3446b4f06",
   "metadata": {},
   "outputs": [],
   "source": [
    "# TODO: use rasterio to write a GeoTIFF of your dNBR so you can download and open it in QGIS.\n",
    "# To save some space and bandwith, store it with integer values (np.uint8 because GDAL can't handle np.int8).\n",
    "# Ignore values under 0."
   ]
  },
  {
   "cell_type": "code",
   "execution_count": null,
   "id": "ef839a6e-c1cd-4ab9-9ff0-ac8b238f5a36",
   "metadata": {},
   "outputs": [],
   "source": [
    "profile.update({\"compress\": \"lzw\", \"nodata\": None})  # Use LZW compression. Unset nodata.\n",
    "profile"
   ]
  },
  {
   "cell_type": "code",
   "execution_count": null,
   "id": "01676a5d-cb17-43c7-b974-cafcc293144c",
   "metadata": {},
   "outputs": [],
   "source": []
  },
  {
   "cell_type": "code",
   "execution_count": null,
   "id": "cb72ff85-cdfd-4c32-aa73-e98497862d6b",
   "metadata": {},
   "outputs": [],
   "source": [
    "# You can use np.digitize to create a reclassified array based on thresholds\n",
    "thresholds = [-0.25, -0.1, 0.1, 0.27, 0.44, 0.66]\n",
    "# Source : https://un-spider.org/advisory-support/recommended-practices/recommended-practice-burn-severity/in-detail/normalized-burn-ratio"
   ]
  },
  {
   "cell_type": "code",
   "execution_count": null,
   "id": "f865c323-cfde-4f20-a419-9d1935055ff3",
   "metadata": {},
   "outputs": [],
   "source": [
    "reclassified_dnbr = np.digitize(dnbr, thresholds).astype(\"uint8\")\n",
    "fig, ax = plt.subplots(figsize=(10,10))\n",
    "ax.imshow(reclassified_dnbr, cmap='Spectral_r')\n",
    "fig.colorbar(ax.get_children()[0])"
   ]
  },
  {
   "cell_type": "code",
   "execution_count": null,
   "id": "28bfb4bf-cea1-499e-991b-48586cd9ab89",
   "metadata": {},
   "outputs": [],
   "source": [
    "# TODO: compute the Normalized Difference Water Index with the \"after\" image\n",
    "# The formula for Sentinel-2 is:\n",
    "# NDWI = (Green - NIR) / (Green + NIR)"
   ]
  },
  {
   "cell_type": "code",
   "execution_count": null,
   "id": "3f853082-32f3-4f3b-b088-451f0a172753",
   "metadata": {},
   "outputs": [],
   "source": []
  },
  {
   "cell_type": "code",
   "execution_count": null,
   "id": "0e59d359-7abb-40ac-ab88-714a8d973e97",
   "metadata": {},
   "outputs": [],
   "source": [
    "# TODO: Find a threshold in order to build a water mask. \n",
    "# Clean small blobs in mask using skimage.morphology.remove_small_objects (default params should work nicely)\n",
    "# Apply this mask to plot the dNBR data without in-water pixels"
   ]
  },
  {
   "cell_type": "code",
   "execution_count": null,
   "id": "422593d9-0b76-4ac9-9752-acaedf3fd415",
   "metadata": {},
   "outputs": [],
   "source": []
  },
  {
   "cell_type": "markdown",
   "id": "0be75738-fac0-4183-bafe-46a3f5c560de",
   "metadata": {},
   "source": [
    "A new index for Sentinel-2 (NBR+) was [recently published](https://www.researchgate.net/publication/359705541_Normalized_Burn_Ratio_Plus_NBR_A_New_Index_for_Sentinel-2_Imagery).  \n",
    "The worklow is the same, but the NBR+ formulae is different. It may give better result (and avoid detecting water bodies as fires).  \n",
    "**NBR+ = (B12 − B8 − B3 − B2) / (B12 + B8 + B3 + B2)**\n",
    "\n",
    "We used B8, but you could also try with B8A and see the difference (should not be significative, it depends on the type of vegetation though)."
   ]
  },
  {
   "cell_type": "code",
   "execution_count": null,
   "id": "4f3a4be8-63ea-4261-9433-1ba0d786efe7",
   "metadata": {},
   "outputs": [],
   "source": [
    "# Bonus TODO: Adapt your previous \"NBR from array\" function, it should accept an optional argument so we can compute either dNBR or dNBR+.\n",
    "# Use it to compare the results in leafmap or QGIS. Do you think it is better or worse ? Use a visual image and / or false color composite (after fire) as basemap."
   ]
  },
  {
   "cell_type": "code",
   "execution_count": null,
   "id": "780d73d8-3a36-486f-9c6f-a2710e6ce930",
   "metadata": {},
   "outputs": [],
   "source": []
  },
  {
   "cell_type": "markdown",
   "id": "dd756ac6-7acf-46f9-82a2-c495906a3d52",
   "metadata": {},
   "source": [
    "## Vectorize raster blobs"
   ]
  },
  {
   "cell_type": "code",
   "execution_count": null,
   "id": "235119bf-1b60-42f8-b250-bcca3d744276",
   "metadata": {},
   "outputs": [],
   "source": [
    "geoms, values = [], []\n",
    "# We create a list of shapes using source image transform\n",
    "for geom, value in rio.features.shapes(\n",
    "    reclassified_dnbr,\n",
    "    transform=profile['transform'],\n",
    "    mask=(reclassified_dnbr >= 3),  # also we can mask some values\n",
    "):\n",
    "    geoms.append(shapely.geometry.shape(geom))\n",
    "    values.append(value)"
   ]
  },
  {
   "cell_type": "code",
   "execution_count": null,
   "id": "d47c46f1-3126-4625-9c29-67063e478a19",
   "metadata": {},
   "outputs": [],
   "source": [
    "# Create pandas series with our data lists: polygons and pixel values\n",
    "geoms = gpd.GeoSeries(geoms)\n",
    "values = pd.Series(values)"
   ]
  },
  {
   "cell_type": "code",
   "execution_count": null,
   "id": "8edce0fa-f4b9-4548-a26e-40feb50287d9",
   "metadata": {},
   "outputs": [],
   "source": [
    "# Create a GeoDataFrame\n",
    "gdf = gpd.GeoDataFrame(values.rename(\"dNBR_class\"), geometry=geoms, crs=crs)\n",
    "gdf[\"area_ha\"] = gdf.area / 10_000\n",
    "len(gdf)"
   ]
  },
  {
   "cell_type": "code",
   "execution_count": null,
   "id": "f3a766bd-b321-4f1f-b053-e4b43d460913",
   "metadata": {},
   "outputs": [],
   "source": [
    "# We have a lot of isloated pixels. It's better to remove them or leafmap will take too long to render\n",
    "gdf.sort_values(\"area_ha\").head()"
   ]
  },
  {
   "cell_type": "code",
   "execution_count": null,
   "id": "5fda9f68-f791-4162-93e7-803e7023e84b",
   "metadata": {},
   "outputs": [],
   "source": [
    "gdf = gdf[gdf.area_ha >= 0.1]\n",
    "len(gdf)"
   ]
  },
  {
   "cell_type": "code",
   "execution_count": null,
   "id": "b3e7563c-2c59-4263-909d-d915cb617bd5",
   "metadata": {},
   "outputs": [],
   "source": [
    "# NB: be carefull of what you vectorize, many isloated pixel would result in a huge list of polygons\n",
    "# If you ever need to vectorize binary objects (e.g. the result of a threshold), you should always use binary cleaning before converting to polygons.\n",
    "gdf.explore(\"dNBR_class\", tiles=folium_tile, cmap=\"copper_r\", style_kwds={\"stroke\": None})"
   ]
  },
  {
   "cell_type": "code",
   "execution_count": null,
   "id": "3f45ce13-c8a0-4f10-9eeb-e6a865d9d32c",
   "metadata": {},
   "outputs": [],
   "source": [
    "# TODO: create a vector layer of the water mask you just built: it will be just a list of shapes since the pixel value is not useful\n",
    "# Add it to a leafmap with a visual rendering of the source image. Check if it fits all right, or may be you need to adjust threshold / binary cleaning parameters ?"
   ]
  },
  {
   "cell_type": "code",
   "execution_count": null,
   "id": "2da6112f-ed94-4123-8093-7c86accdc48d",
   "metadata": {},
   "outputs": [],
   "source": []
  },
  {
   "cell_type": "markdown",
   "id": "760e0624-d51d-4c3a-9e4c-91a776b19fe5",
   "metadata": {},
   "source": [
    "## Rasterize vector shapes\n",
    "Sometimes, you'll need to manipulate vector shapes as numpy arrays (e.g. ROI extraction, ground truth labelling, ...)"
   ]
  },
  {
   "cell_type": "code",
   "execution_count": null,
   "id": "0753494f-e5f2-4564-9f5d-0253784b5e92",
   "metadata": {},
   "outputs": [],
   "source": [
    "# Let's download some cadastral data from IGN WFS\n",
    "wfs_parcelles = \"https://wxs.ign.fr/parcellaire/geoportail/wfs?SERVICE=WFS&VERSION=2.0.0&REQUEST=GetFeature&OUTPUTFORMAT=application/json\"\n",
    "wfs_parcelles += \"&TYPENAME=CADASTRALPARCELS.PARCELLAIRE_EXPRESS:parcelle&COUNT=1000&CQL_FILTER=code_insee=33529&SRSNAME=\" + str(crs)\n",
    "parcelles = None\n",
    "i = 0\n",
    "# Since a WFS query with this public URL is limited to 1000 results, we need to do it in several times\n",
    "while True:\n",
    "    result = gpd.read_file(wfs_parcelles + f\"&startIndex={i}\")\n",
    "    if len(result) == 0:\n",
    "        # In that case the previous loop was the last with data\n",
    "        break\n",
    "    if parcelles is None:\n",
    "        # First iteration\n",
    "        parcelles = result\n",
    "    else:\n",
    "        parcelles = pd.concat([parcelles, result])\n",
    "\n",
    "    i += 1000"
   ]
  },
  {
   "cell_type": "code",
   "execution_count": null,
   "id": "76c67aae-3be9-4db5-a378-5ae1e223adb7",
   "metadata": {},
   "outputs": [],
   "source": [
    "parcelles.reset_index(inplace=True, drop=True)\n",
    "parcelles.head()"
   ]
  },
  {
   "cell_type": "code",
   "execution_count": null,
   "id": "05ef4fd5-57c1-4cce-b989-dbd4b42434e5",
   "metadata": {},
   "outputs": [],
   "source": [
    "parcelles.plot(\"id\", categorical=True, figsize=(5,8))\n",
    "plt.axis(\"off\")"
   ]
  },
  {
   "cell_type": "code",
   "execution_count": null,
   "id": "09d8e4e6-cb30-4aa6-a90f-15d545f10f47",
   "metadata": {},
   "outputs": [],
   "source": [
    "# For the next step, we need a unique integer ID that does not start at zero\n",
    "parcelles[\"raster_id\"] = parcelles.index + 1\n",
    "parcelles[\"raster_id\"].max()"
   ]
  },
  {
   "cell_type": "code",
   "execution_count": null,
   "id": "4e851204-fc5f-4e12-9a3c-d572582236c9",
   "metadata": {},
   "outputs": [],
   "source": [
    "# To speed up the process, let's ignore small parcels (under 1 ha)\n",
    "parcelles_1ha = parcelles.loc[parcelles.area > 10_000]\n",
    "len(parcelles_1ha)"
   ]
  },
  {
   "cell_type": "code",
   "execution_count": null,
   "id": "6dc4fa19-cef7-4f34-b5a5-1998328785be",
   "metadata": {},
   "outputs": [],
   "source": [
    "parcelles_1ha.plot()\n",
    "plt.axis(\"off\")"
   ]
  },
  {
   "cell_type": "code",
   "execution_count": null,
   "id": "2b33c57f-7116-4f1a-a60f-aef9ea2822b3",
   "metadata": {},
   "outputs": [],
   "source": [
    "# We need to iterate over a list of pairs (geometry, value): the pixel value in target array\n",
    "iter_shapes = ( (feat.geometry, feat.raster_id) for name, feat in parcelles_1ha.iterrows() )\n",
    "# Here, name is the default df index value. We don't use a list comprehension on purpose."
   ]
  },
  {
   "cell_type": "code",
   "execution_count": null,
   "id": "b7074a98-8dac-4bc7-b7f3-8c68eee6cf78",
   "metadata": {},
   "outputs": [],
   "source": [
    "# A generator is an object that allow you not to load all the dataset at once (your RAM will love them)\n",
    "parcelles.iterrows(), iter_shapes"
   ]
  },
  {
   "cell_type": "code",
   "execution_count": null,
   "id": "fedd4f7f-625d-4d20-beae-2ef5ecd73a90",
   "metadata": {},
   "outputs": [],
   "source": [
    "# Now let's rasterize, we need a target shape and image transform, 0 is for values outside polygons\n",
    "parcelles_array = rio.features.rasterize(iter_shapes, nbr_after.shape, fill=0, transform=profile['transform'], dtype=\"uint16\")"
   ]
  },
  {
   "cell_type": "code",
   "execution_count": null,
   "id": "86d5b625-7ac9-4585-a4c6-7e60757e8669",
   "metadata": {},
   "outputs": [],
   "source": [
    "# We lost some shapes in the process : some are too far north of our ROI\n",
    "len(np.unique(parcelles_array)), parcelles_array.max()"
   ]
  },
  {
   "cell_type": "code",
   "execution_count": null,
   "id": "30e7a240-7419-4cc3-823b-497a7da1d6ce",
   "metadata": {},
   "outputs": [],
   "source": [
    "fig, ax = plt.subplots(figsize=(10,10))\n",
    "ax.imshow(np.ma.masked_equal(parcelles_array, 0), cmap='prism', interpolation=\"nearest\")\n",
    "plt.axis(\"off\")"
   ]
  },
  {
   "cell_type": "markdown",
   "id": "c9367342-5179-4e4b-ab99-ffea417a1723",
   "metadata": {},
   "source": [
    "## Zonal statistics\n",
    "You'll often need to compute statistics using vector data. Also, one common method for image classification is [OBIA](https://en.wikipedia.org/wiki/Image_analysis#Object-based).  \n",
    "We won't cover this here, but the idea is that you consider group of pixels, in opposition to pixel classification. It generally implies segmentation algorithms.  \n",
    "Cadastral data is also very used in that kind of studies. A dataframe of polygons with many attributes (features) can then feed any kind of machine learning pipeline."
   ]
  },
  {
   "cell_type": "markdown",
   "id": "cc235853-c9c3-4367-9829-3e237ce8a475",
   "metadata": {},
   "source": [
    "There are many ways to compute zonal statistics. Here we can use scikit-image to do it all with arrays.  \n",
    "Most zonal stats tools are operating that way behind the curtains.  "
   ]
  },
  {
   "cell_type": "code",
   "execution_count": null,
   "id": "bff41824-2176-43ec-a491-534df3f6de6f",
   "metadata": {},
   "outputs": [],
   "source": [
    "# For available properties, see https://scikit-image.org/docs/stable/api/skimage.measure.html#skimage.measure.regionprops\n",
    "# There a lot of useful geometrical functions already defined, like area or centroid.\n",
    "props = [\"label\", \"area\", \"intensity_min\", \"intensity_max\", \"intensity_mean\"]\n",
    "result = skimage.measure.regionprops_table(parcelles_array, intensity_image=dnbr, properties=props)\n",
    "result"
   ]
  },
  {
   "cell_type": "code",
   "execution_count": null,
   "id": "fdb49f48-ac17-4cdf-b556-15d182f7e2ec",
   "metadata": {},
   "outputs": [],
   "source": [
    "df = pd.DataFrame(result).set_index('label')\n",
    "df.head()"
   ]
  },
  {
   "cell_type": "code",
   "execution_count": null,
   "id": "6f97a31c-f794-42e3-b3ad-b0d63b46648d",
   "metadata": {},
   "outputs": [],
   "source": [
    "# Now you can use Pandas to plot or compute statistics\n",
    "parcelles_stats = parcelles_1ha.set_index(\"raster_id\").join(df)\n",
    "parcelles_stats.plot(\"intensity_mean\", figsize=(10,10))\n",
    "plt.axis(\"off\")"
   ]
  },
  {
   "cell_type": "code",
   "execution_count": null,
   "id": "b48eb16d-cca6-480f-a2f4-eeacaf636bfe",
   "metadata": {},
   "outputs": [],
   "source": [
    "# See here how you can define your own numpy functions for regionprops\n",
    "def zonal_stats(\n",
    "    labels: np.ndarray,\n",
    "    intensity: np.ndarray = None,\n",
    "    props: tuple = (\"label\", \"area\"),\n",
    "    extra_props: tuple = (),\n",
    "    numerical: bool = True,\n",
    ") -> pd.DataFrame:\n",
    "    \"\"\"Use skimage regionprops with custom stats\"\"\"\n",
    "    if numerical and intensity is not None:\n",
    "\n",
    "        def min(regionmask, intensity):  # pylint: disable=redefined-builtin\n",
    "            return np.amin(intensity[regionmask])\n",
    "\n",
    "        def max(regionmask, intensity):  # pylint: disable=redefined-builtin\n",
    "            return np.amax(intensity[regionmask])\n",
    "\n",
    "        def mean(regionmask, intensity):\n",
    "            return np.mean(intensity[regionmask])\n",
    "\n",
    "        def std(regionmask, intensity):\n",
    "            return np.std(intensity[regionmask])\n",
    "\n",
    "        def quartiles(regionmask, intensity):\n",
    "            return np.percentile(intensity[regionmask], q=(25, 50, 75))\n",
    "\n",
    "        # Here, region mask is an index of pixels within a labelled shape\n",
    "        # You could also add a custom mask / NaNs base on intensity values if needed\n",
    "        # Also sometime you may need to pass an intensity array with NaNs, so here you could replace max by nanmax\n",
    "\n",
    "        extra_props = extra_props + (min, max, mean, std, quartiles)\n",
    "\n",
    "    # If intensity is multiband, you'll have stat column for each band named like \"max-3\"\n",
    "    table = skimage.measure.regionprops_table(\n",
    "        labels, intensity, props, extra_properties=extra_props\n",
    "    )\n",
    "    props_df = pd.DataFrame(table)\n",
    "    props_df.set_index(\"label\", inplace=True)\n",
    "    return props_df"
   ]
  },
  {
   "cell_type": "code",
   "execution_count": null,
   "id": "d3bde0f1-5ced-41b8-ab6b-75708e171b2e",
   "metadata": {},
   "outputs": [],
   "source": [
    "df = zonal_stats(parcelles_array, nbr_before)\n",
    "df.head()"
   ]
  },
  {
   "cell_type": "markdown",
   "id": "7b9222b8-912b-40bf-9c11-e47e75325815",
   "metadata": {},
   "source": [
    "### Notes about zonal stats :\n",
    "Since you can pass custom functions to regionprops using \"extra_properties\", you can do a lot of things. But it can be very slow if you're dealing with full size, high resolution images.  \n",
    "One other popular package for zonal stats and point queries is rasterstats (not installed here), it is really handy and also allow custom functions.  \n",
    "But, if you're dealing with big time series 4-dimensional arrays, you'll need the xarray-spatial package which has a ton of functions and will handle image resampling for you."
   ]
  },
  {
   "cell_type": "code",
   "execution_count": null,
   "id": "194e0f3f-b312-4545-adc8-c5ea01a2c44e",
   "metadata": {},
   "outputs": [],
   "source": []
  },
  {
   "cell_type": "markdown",
   "id": "163deb3b-0a6f-4a9b-b27a-6824d687e3de",
   "metadata": {},
   "source": [
    "## Going further\n",
    "If you have time, you can now proceed with a full image analysis. You may have noticed there are at least 2 other burnt areas in the same Sentinel-2 tile.  "
   ]
  },
  {
   "cell_type": "code",
   "execution_count": null,
   "id": "9a43d485-5e7b-438c-aab4-19d025b9212d",
   "metadata": {},
   "outputs": [],
   "source": [
    "# Bonus TODO: choose another \"after\" date so you can study all fires in the S2 tile. Compute dNBR.\n",
    "# Isolate these fires as 3 new ROI / commune clusters. Create subplots of reclassified dNBR, with 3 fires side by side.\n",
    "# Use the \"communes\" gdf to measure the % of burnt area in vector mode. We'll consider burnt anything with dNBR >= 0.1\n",
    "# Create functions, nobody wants to read a huge monolithic code block."
   ]
  },
  {
   "cell_type": "code",
   "execution_count": null,
   "id": "4c2c9396-1a7f-4e95-a635-dda58b50b94d",
   "metadata": {},
   "outputs": [],
   "source": []
  },
  {
   "cell_type": "code",
   "execution_count": null,
   "id": "dbd1244f-3362-4776-bab3-edae7d3322f4",
   "metadata": {},
   "outputs": [],
   "source": [
    "# Bonus TODO: find a way to distinct forest areas, with any kind of dataset (vector or raster, from IGN WFS, Planetary Computer, etc.).\n",
    "# Compute surfaces in raster mode using zonal stats, and binary rasterized shapes (sum/area)\n",
    "# We want to map the surface of burnt forest, absolute (you could then use marker size) and relative (for choropleth map)."
   ]
  },
  {
   "cell_type": "code",
   "execution_count": null,
   "id": "08b8c55a-4626-497e-be25-04a659c9bea3",
   "metadata": {},
   "outputs": [],
   "source": []
  },
  {
   "cell_type": "code",
   "execution_count": null,
   "id": "05c83c37-a8a9-4485-8e98-84cc53dfd476",
   "metadata": {},
   "outputs": [],
   "source": [
    "# If you're already done, may be you'll want to see some PC notebooks and learn how to deal with 4D xarrays and time series.\n",
    "# N.B: if you don't want to use xarray, you could still obtain the same result, processing dates one by one with rasterio.\n",
    "# Xarray is useful for huge datasets, and to scale with dask. Not always. Learn to use the right tool for the job.\n",
    "# See these notebooks \"quickstarts/reading-stac\", \"tutorials/cloudless-mosaic-sentinel2\" and \"tutorials/zonal_statistics\".\n",
    "\n",
    "# Bonus+ TODO: compute NDVI time serie of our area_of_interest, and find out how resilient the vegetation is after the fire.\n",
    "# Create plots of NDVI trends at a parcel level."
   ]
  },
  {
   "cell_type": "code",
   "execution_count": null,
   "id": "65db2dea-ca53-4426-8c97-afc6a5a155bb",
   "metadata": {},
   "outputs": [],
   "source": []
  }
 ],
 "metadata": {
  "kernelspec": {
   "display_name": "Python 3",
   "language": "python",
   "name": "python3"
  },
  "language_info": {
   "codemirror_mode": {
    "name": "ipython",
    "version": 3
   },
   "file_extension": ".py",
   "mimetype": "text/x-python",
   "name": "python",
   "nbconvert_exporter": "python",
   "pygments_lexer": "ipython3",
   "version": "3.10.6 (main, Aug 10 2022, 11:40:04) [GCC 11.3.0]"
  },
  "vscode": {
   "interpreter": {
    "hash": "916dbcbb3f70747c44a77c7bcd40155683ae19c65e1c03b4aa3499c5328201f1"
   }
  }
 },
 "nbformat": 4,
 "nbformat_minor": 5
}
